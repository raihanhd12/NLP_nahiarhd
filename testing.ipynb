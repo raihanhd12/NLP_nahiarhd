{
 "cells": [
  {
   "cell_type": "code",
   "execution_count": 2,
   "id": "3d0b7301",
   "metadata": {},
   "outputs": [
    {
     "name": "stdout",
     "output_type": "stream",
     "text": [
      "website google\n",
      "kunjungi  sekarang!\n",
      "Halo apa kabar?\n",
      "memang siapa yang bertanya?\n",
      "wajah_gembira wajah_gembira_berurai_air_mata wajah_tersenyum_lebar_bermata_hati\n",
      "saya mencuri informasi\n"
     ]
    }
   ],
   "source": [
    "from nahiarhdNLP.preprocessing import (\n",
    "    remove_html,\n",
    "    remove_url,\n",
    "    remove_mentions,\n",
    "    replace_slang,\n",
    "    emoji_to_words,\n",
    "    correct_spelling,\n",
    ")\n",
    "\n",
    "# Menghapus HTML\n",
    "html_text = \"website <a href='https://google.com'>google</a>\"\n",
    "clean_text = remove_html(html_text)\n",
    "print(clean_text)\n",
    "# Output: \"website google\"\n",
    "\n",
    "# Menghapus URL\n",
    "url_text = \"kunjungi https://google.com sekarang!\"\n",
    "clean_text = remove_url(url_text)\n",
    "print(clean_text)\n",
    "# Output: \"kunjungi  sekarang!\"\n",
    "\n",
    "# Menghapus mentions\n",
    "mention_text = \"Halo @user123 apa kabar?\"\n",
    "clean_text = remove_mentions(mention_text)\n",
    "print(clean_text)\n",
    "# Output: \"Halo  apa kabar?\"\n",
    "\n",
    "# Normalisasi slang\n",
    "slang_text = \"emg siapa yg nanya?\"\n",
    "normal_text = replace_slang(slang_text)\n",
    "print(normal_text)\n",
    "# Output: \"memang siapa yang bertanya?\"\n",
    "\n",
    "# Konversi emoji\n",
    "emoji_text = \"😀 😂 😍\"\n",
    "text_result = emoji_to_words(emoji_text)\n",
    "print(text_result)\n",
    "# Output: \"wajah_gembira wajah_tertawa wajah_bercinta\"\n",
    "\n",
    "# Koreksi ejaan\n",
    "spell_text = \"saya mencri informsi\"\n",
    "corrected = correct_spelling(spell_text)\n",
    "print(corrected)\n",
    "# Output: \"saya mencuri informasi\""
   ]
  },
  {
   "cell_type": "code",
   "execution_count": null,
   "id": "b2dc6387",
   "metadata": {},
   "outputs": [],
   "source": []
  },
  {
   "cell_type": "code",
   "execution_count": null,
   "id": "eda12855",
   "metadata": {},
   "outputs": [],
   "source": []
  },
  {
   "cell_type": "code",
   "execution_count": null,
   "id": "69d7eb48",
   "metadata": {},
   "outputs": [],
   "source": []
  },
  {
   "cell_type": "code",
   "execution_count": null,
   "id": "1620a5c6",
   "metadata": {},
   "outputs": [],
   "source": []
  },
  {
   "cell_type": "code",
   "execution_count": null,
   "id": "2ff6211d",
   "metadata": {},
   "outputs": [],
   "source": []
  }
 ],
 "metadata": {
  "kernelspec": {
   "display_name": ".venv",
   "language": "python",
   "name": "python3"
  },
  "language_info": {
   "codemirror_mode": {
    "name": "ipython",
    "version": 3
   },
   "file_extension": ".py",
   "mimetype": "text/x-python",
   "name": "python",
   "nbconvert_exporter": "python",
   "pygments_lexer": "ipython3",
   "version": "3.12.6"
  }
 },
 "nbformat": 4,
 "nbformat_minor": 5
}
